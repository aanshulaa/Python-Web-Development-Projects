{
  "nbformat": 4,
  "nbformat_minor": 0,
  "metadata": {
    "colab": {
      "provenance": []
    },
    "kernelspec": {
      "name": "python3",
      "display_name": "Python 3"
    },
    "language_info": {
      "name": "python"
    }
  },
  "cells": [
    {
      "cell_type": "code",
      "execution_count": null,
      "metadata": {
        "colab": {
          "base_uri": "https://localhost:8080/"
        },
        "id": "TE4Uw7-cxAaT",
        "outputId": "2a697886-745b-4e91-84fb-9df04ddcc4f0"
      },
      "outputs": [
        {
          "output_type": "stream",
          "name": "stdout",
          "text": [
            "Welcome to Hangman!\n",
            "_ _ _ _ _ _ _ _ _ _\n",
            "Guessed Letters: \n"
          ]
        }
      ],
      "source": [
        "import random\n",
        "\n",
        "def select_word():\n",
        "    words = [\"apple\", \"banana\", \"cherry\", \"dragonfruit\", \"elderberry\"]\n",
        "    return random.choice(words)\n",
        "\n",
        "def play_hangman(word):\n",
        "    guessed_letters = set()\n",
        "    attempts = 6\n",
        "\n",
        "    while True:\n",
        "        print(\" \".join(letter if letter in guessed_letters else \"_\" for letter in word))\n",
        "        print(\"Guessed Letters:\", \" \".join(guessed_letters))\n",
        "\n",
        "        if set(word) == guessed_letters:\n",
        "            print(\"Congratulations! You guessed the word!\")\n",
        "            break\n",
        "\n",
        "        if attempts == 0:\n",
        "            print(\"Game Over! You ran out of attempts.\")\n",
        "            break\n",
        "\n",
        "        guess = input(\"Enter a letter: \").lower()\n",
        "        if guess in guessed_letters:\n",
        "            print(\"You already guessed that letter. Try again.\")\n",
        "            continue\n",
        "\n",
        "        guessed_letters.add(guess)\n",
        "        if guess not in word:\n",
        "            attempts -= 1\n",
        "            print(f\"Wrong guess! You have {attempts} attempts left.\")\n",
        "\n",
        "word_to_guess = select_word()\n",
        "print(\"Welcome to Hangman!\")\n",
        "play_hangman(word_to_guess)\n"
      ]
    }
  ]
}